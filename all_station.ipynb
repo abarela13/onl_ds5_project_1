{
 "cells": [
  {
   "cell_type": "code",
   "execution_count": 1,
   "metadata": {},
   "outputs": [],
   "source": [
    "import pandas as pd\n",
    "from matplotlib import pyplot as plt\n",
    "%matplotlib inline\n",
    "import seaborn as sns"
   ]
  },
  {
   "cell_type": "markdown",
   "metadata": {},
   "source": [
    "### Import data"
   ]
  },
  {
   "cell_type": "code",
   "execution_count": 2,
   "metadata": {},
   "outputs": [],
   "source": [
    "mta_data = pd.read_pickle('mta_2018')"
   ]
  },
  {
   "cell_type": "markdown",
   "metadata": {},
   "source": [
    "### Clean columns"
   ]
  },
  {
   "cell_type": "code",
   "execution_count": 3,
   "metadata": {},
   "outputs": [],
   "source": [
    "# reset mta data index\n",
    "mta_data.reset_index(drop=True,inplace=True)\n",
    "\n",
    "# rename column EXITS\n",
    "mta_data.rename(columns={'EXITS                                                               ':'EXITS'},inplace=True)"
   ]
  },
  {
   "cell_type": "code",
   "execution_count": 4,
   "metadata": {},
   "outputs": [],
   "source": [
    "# Create DateTime column\n",
    "mta_data['DATETIME'] = pd.to_datetime(mta_data.DATE + ' ' + mta_data.TIME)\n",
    "mta_data['DATE']= pd.to_datetime(mta_data['DATE'])\n",
    "\n",
    "# Find median_hour (center of the time slot)\n",
    "# Corresponds to 2am, 6am, 10am, 14=2pm,...\n",
    "mta_data['HOUR'] = (((mta_data['DATETIME'].diff()/2).shift(-1) + mta_data['DATETIME']).dt.hour)\n",
    "mta_data.dropna(how='any',subset=['HOUR'],inplace=True)\n",
    "mta_data['HOUR'] = mta_data['HOUR'].astype('int')\n",
    "\n",
    "# Create Day of Week from newly create DateTime column\n",
    "mta_data['WEEKDAY'] = mta_data['DATETIME'].dt.day_name()\n",
    "# Create day_of_week column\n",
    "mta_data['dow'] = mta_data['DATETIME'].apply(lambda x: x.weekday())\n"
   ]
  },
  {
   "cell_type": "code",
   "execution_count": 5,
   "metadata": {},
   "outputs": [],
   "source": [
    "# Create Unique Daily ID for each turnstile\n",
    "mta_data['UNIQUEID'] = mta_data['STATION'] + '_' + mta_data['UNIT'] + '_' + mta_data['C/A'] \\\n",
    "+ '_' + mta_data['SCP']"
   ]
  },
  {
   "cell_type": "code",
   "execution_count": null,
   "metadata": {},
   "outputs": [],
   "source": []
  },
  {
   "cell_type": "markdown",
   "metadata": {},
   "source": [
    "### Find entries for each row"
   ]
  },
  {
   "cell_type": "code",
   "execution_count": 6,
   "metadata": {},
   "outputs": [],
   "source": [
    "# clean ENTRIES/EXITS as they are cumulative data\n",
    "mta_data['ENTRYDIFF'] = mta_data.ENTRIES.diff()\n",
    "mta_data['EXITDIFF'] = mta_data.EXITS.diff()\n",
    "mta_data = mta_data[(mta_data['ENTRYDIFF'] < 100000) & (mta_data['ENTRYDIFF'] > 0)]\n",
    "mta_data = mta_data[(mta_data['EXITDIFF'] < 100000) & (mta_data['EXITDIFF'] > 0)]\n",
    "mta_data['TRAFFIC'] = mta_data['ENTRYDIFF'] + mta_data['EXITDIFF']"
   ]
  },
  {
   "cell_type": "code",
   "execution_count": 7,
   "metadata": {},
   "outputs": [
    {
     "data": {
      "text/plain": [
       "(2.0, 404.47821081453253, 159174.0)"
      ]
     },
     "execution_count": 7,
     "metadata": {},
     "output_type": "execute_result"
    }
   ],
   "source": [
    "mta_data['TRAFFIC'].min(), mta_data['TRAFFIC'].mean(), mta_data['TRAFFIC'].max()"
   ]
  },
  {
   "cell_type": "code",
   "execution_count": 8,
   "metadata": {},
   "outputs": [],
   "source": [
    "# Find time_span (hr) between each row\n",
    "# Note that most are 4.0 hrs but some are not\n",
    "mta_data['DURATION'] = mta_data.DATETIME.diff().apply(lambda x: x.total_seconds()/3600)"
   ]
  },
  {
   "cell_type": "code",
   "execution_count": 9,
   "metadata": {},
   "outputs": [],
   "source": [
    "# Find avg_entries (entries per hour)\n",
    "mta_data['AVG_TRAFFIC'] = mta_data['TRAFFIC']/ mta_data['DURATION']"
   ]
  },
  {
   "cell_type": "code",
   "execution_count": 10,
   "metadata": {},
   "outputs": [],
   "source": [
    "# Drop unnecessary columns\n",
    "mta_data.drop(columns=['DATE','TIME','C/A','UNIT','SCP','LINENAME','DESC','ENTRIES','EXITS'],inplace=True)"
   ]
  },
  {
   "cell_type": "code",
   "execution_count": 11,
   "metadata": {
    "scrolled": true
   },
   "outputs": [
    {
     "data": {
      "text/html": [
       "<div>\n",
       "<style scoped>\n",
       "    .dataframe tbody tr th:only-of-type {\n",
       "        vertical-align: middle;\n",
       "    }\n",
       "\n",
       "    .dataframe tbody tr th {\n",
       "        vertical-align: top;\n",
       "    }\n",
       "\n",
       "    .dataframe thead th {\n",
       "        text-align: right;\n",
       "    }\n",
       "</style>\n",
       "<table border=\"1\" class=\"dataframe\">\n",
       "  <thead>\n",
       "    <tr style=\"text-align: right;\">\n",
       "      <th></th>\n",
       "      <th>STATION</th>\n",
       "      <th>DIVISION</th>\n",
       "      <th>DATETIME</th>\n",
       "      <th>HOUR</th>\n",
       "      <th>WEEKDAY</th>\n",
       "      <th>dow</th>\n",
       "      <th>UNIQUEID</th>\n",
       "      <th>ENTRYDIFF</th>\n",
       "      <th>EXITDIFF</th>\n",
       "      <th>TRAFFIC</th>\n",
       "      <th>DURATION</th>\n",
       "      <th>AVG_TRAFFIC</th>\n",
       "    </tr>\n",
       "  </thead>\n",
       "  <tbody>\n",
       "    <tr>\n",
       "      <th>1</th>\n",
       "      <td>59 ST</td>\n",
       "      <td>BMT</td>\n",
       "      <td>2018-05-12 04:00:00</td>\n",
       "      <td>6</td>\n",
       "      <td>Saturday</td>\n",
       "      <td>5</td>\n",
       "      <td>59 ST_R051_A002_02-00-00</td>\n",
       "      <td>19.0</td>\n",
       "      <td>5.0</td>\n",
       "      <td>24.0</td>\n",
       "      <td>NaN</td>\n",
       "      <td>NaN</td>\n",
       "    </tr>\n",
       "    <tr>\n",
       "      <th>2</th>\n",
       "      <td>59 ST</td>\n",
       "      <td>BMT</td>\n",
       "      <td>2018-05-12 08:00:00</td>\n",
       "      <td>10</td>\n",
       "      <td>Saturday</td>\n",
       "      <td>5</td>\n",
       "      <td>59 ST_R051_A002_02-00-00</td>\n",
       "      <td>19.0</td>\n",
       "      <td>31.0</td>\n",
       "      <td>50.0</td>\n",
       "      <td>4.0</td>\n",
       "      <td>12.50</td>\n",
       "    </tr>\n",
       "    <tr>\n",
       "      <th>3</th>\n",
       "      <td>59 ST</td>\n",
       "      <td>BMT</td>\n",
       "      <td>2018-05-12 12:00:00</td>\n",
       "      <td>14</td>\n",
       "      <td>Saturday</td>\n",
       "      <td>5</td>\n",
       "      <td>59 ST_R051_A002_02-00-00</td>\n",
       "      <td>105.0</td>\n",
       "      <td>85.0</td>\n",
       "      <td>190.0</td>\n",
       "      <td>4.0</td>\n",
       "      <td>47.50</td>\n",
       "    </tr>\n",
       "    <tr>\n",
       "      <th>4</th>\n",
       "      <td>59 ST</td>\n",
       "      <td>BMT</td>\n",
       "      <td>2018-05-12 16:00:00</td>\n",
       "      <td>18</td>\n",
       "      <td>Saturday</td>\n",
       "      <td>5</td>\n",
       "      <td>59 ST_R051_A002_02-00-00</td>\n",
       "      <td>219.0</td>\n",
       "      <td>49.0</td>\n",
       "      <td>268.0</td>\n",
       "      <td>4.0</td>\n",
       "      <td>67.00</td>\n",
       "    </tr>\n",
       "    <tr>\n",
       "      <th>5</th>\n",
       "      <td>59 ST</td>\n",
       "      <td>BMT</td>\n",
       "      <td>2018-05-12 20:00:00</td>\n",
       "      <td>22</td>\n",
       "      <td>Saturday</td>\n",
       "      <td>5</td>\n",
       "      <td>59 ST_R051_A002_02-00-00</td>\n",
       "      <td>297.0</td>\n",
       "      <td>50.0</td>\n",
       "      <td>347.0</td>\n",
       "      <td>4.0</td>\n",
       "      <td>86.75</td>\n",
       "    </tr>\n",
       "  </tbody>\n",
       "</table>\n",
       "</div>"
      ],
      "text/plain": [
       "  STATION DIVISION            DATETIME  HOUR   WEEKDAY  dow  \\\n",
       "1   59 ST      BMT 2018-05-12 04:00:00     6  Saturday    5   \n",
       "2   59 ST      BMT 2018-05-12 08:00:00    10  Saturday    5   \n",
       "3   59 ST      BMT 2018-05-12 12:00:00    14  Saturday    5   \n",
       "4   59 ST      BMT 2018-05-12 16:00:00    18  Saturday    5   \n",
       "5   59 ST      BMT 2018-05-12 20:00:00    22  Saturday    5   \n",
       "\n",
       "                   UNIQUEID  ENTRYDIFF  EXITDIFF  TRAFFIC  DURATION  \\\n",
       "1  59 ST_R051_A002_02-00-00       19.0       5.0     24.0       NaN   \n",
       "2  59 ST_R051_A002_02-00-00       19.0      31.0     50.0       4.0   \n",
       "3  59 ST_R051_A002_02-00-00      105.0      85.0    190.0       4.0   \n",
       "4  59 ST_R051_A002_02-00-00      219.0      49.0    268.0       4.0   \n",
       "5  59 ST_R051_A002_02-00-00      297.0      50.0    347.0       4.0   \n",
       "\n",
       "   AVG_TRAFFIC  \n",
       "1          NaN  \n",
       "2        12.50  \n",
       "3        47.50  \n",
       "4        67.00  \n",
       "5        86.75  "
      ]
     },
     "execution_count": 11,
     "metadata": {},
     "output_type": "execute_result"
    }
   ],
   "source": [
    "mta_data.head()"
   ]
  },
  {
   "cell_type": "code",
   "execution_count": null,
   "metadata": {},
   "outputs": [],
   "source": []
  },
  {
   "cell_type": "markdown",
   "metadata": {},
   "source": [
    "### Choose station"
   ]
  },
  {
   "cell_type": "code",
   "execution_count": 12,
   "metadata": {},
   "outputs": [],
   "source": [
    "# Choose penn station data\n",
    "penn_df = mta_data[mta_data.STATION == '34 ST-PENN STA'].iloc[1:].reset_index()\n",
    "\n",
    "# Filter for entries between 0 and 3000\n",
    "# Outliers come from switching to next turnstiles (should be the same as dropping first rows of each turnstile)\n",
    "# Filter out the negative values of avg_entries\n",
    "# (should be the same as dropping first value of each turnstile on a new day)\n",
    "penn_filter = penn_df[(penn_df.TRAFFIC<100000) & (penn_df.TRAFFIC>0)].copy()"
   ]
  },
  {
   "cell_type": "markdown",
   "metadata": {},
   "source": [
    "Check if the value of entries make sense:"
   ]
  },
  {
   "cell_type": "code",
   "execution_count": 13,
   "metadata": {},
   "outputs": [
    {
     "data": {
      "text/plain": [
       "(2.0, 492.9517246061923, 3541.0)"
      ]
     },
     "execution_count": 13,
     "metadata": {},
     "output_type": "execute_result"
    }
   ],
   "source": [
    "penn_filter.TRAFFIC.min(),penn_filter.TRAFFIC.mean(),penn_filter.TRAFFIC.max()"
   ]
  },
  {
   "cell_type": "code",
   "execution_count": 14,
   "metadata": {},
   "outputs": [
    {
     "data": {
      "text/plain": [
       "(-3.75, 123.38552558839368, 885.25)"
      ]
     },
     "execution_count": 14,
     "metadata": {},
     "output_type": "execute_result"
    }
   ],
   "source": [
    "# Check if values of avg_entries make sense\n",
    "# Found negative values: happens when switching to next turnsiles\n",
    "penn_filter['AVG_TRAFFIC'].min(), penn_filter['AVG_TRAFFIC'].mean(), penn_filter['AVG_TRAFFIC'].max()"
   ]
  },
  {
   "cell_type": "code",
   "execution_count": 15,
   "metadata": {},
   "outputs": [],
   "source": [
    "penn_filter = penn_filter[penn_filter['AVG_TRAFFIC'] > 0]\n",
    "penn_filter['AVG_TRAFFIC'] = penn_filter['AVG_TRAFFIC'].astype(int)"
   ]
  },
  {
   "cell_type": "code",
   "execution_count": 16,
   "metadata": {},
   "outputs": [
    {
     "data": {
      "text/plain": [
       "92"
      ]
     },
     "execution_count": 16,
     "metadata": {},
     "output_type": "execute_result"
    }
   ],
   "source": [
    "# There are 92 turnstiles in Penn station?\n",
    "penn_filter.UNIQUEID.nunique()"
   ]
  },
  {
   "cell_type": "code",
   "execution_count": 17,
   "metadata": {},
   "outputs": [
    {
     "data": {
      "text/plain": [
       "(0, 126.17610194276165, 885)"
      ]
     },
     "execution_count": 17,
     "metadata": {},
     "output_type": "execute_result"
    }
   ],
   "source": [
    "penn_filter.AVG_TRAFFIC.min(),penn_filter.AVG_TRAFFIC.mean(),penn_filter.AVG_TRAFFIC.max()"
   ]
  },
  {
   "cell_type": "code",
   "execution_count": 18,
   "metadata": {},
   "outputs": [
    {
     "data": {
      "text/html": [
       "<div>\n",
       "<style scoped>\n",
       "    .dataframe tbody tr th:only-of-type {\n",
       "        vertical-align: middle;\n",
       "    }\n",
       "\n",
       "    .dataframe tbody tr th {\n",
       "        vertical-align: top;\n",
       "    }\n",
       "\n",
       "    .dataframe thead th {\n",
       "        text-align: right;\n",
       "    }\n",
       "</style>\n",
       "<table border=\"1\" class=\"dataframe\">\n",
       "  <thead>\n",
       "    <tr style=\"text-align: right;\">\n",
       "      <th></th>\n",
       "      <th>index</th>\n",
       "      <th>STATION</th>\n",
       "      <th>DIVISION</th>\n",
       "      <th>DATETIME</th>\n",
       "      <th>HOUR</th>\n",
       "      <th>WEEKDAY</th>\n",
       "      <th>dow</th>\n",
       "      <th>UNIQUEID</th>\n",
       "      <th>ENTRYDIFF</th>\n",
       "      <th>EXITDIFF</th>\n",
       "      <th>TRAFFIC</th>\n",
       "      <th>DURATION</th>\n",
       "      <th>AVG_TRAFFIC</th>\n",
       "    </tr>\n",
       "  </thead>\n",
       "  <tbody>\n",
       "    <tr>\n",
       "      <th>0</th>\n",
       "      <td>50310</td>\n",
       "      <td>34 ST-PENN STA</td>\n",
       "      <td>IND</td>\n",
       "      <td>2018-05-12 08:00:00</td>\n",
       "      <td>10</td>\n",
       "      <td>Saturday</td>\n",
       "      <td>5</td>\n",
       "      <td>34 ST-PENN STA_R012_N067_00-00-00</td>\n",
       "      <td>28.0</td>\n",
       "      <td>43.0</td>\n",
       "      <td>71.0</td>\n",
       "      <td>4.0</td>\n",
       "      <td>17</td>\n",
       "    </tr>\n",
       "    <tr>\n",
       "      <th>1</th>\n",
       "      <td>50311</td>\n",
       "      <td>34 ST-PENN STA</td>\n",
       "      <td>IND</td>\n",
       "      <td>2018-05-12 12:00:00</td>\n",
       "      <td>14</td>\n",
       "      <td>Saturday</td>\n",
       "      <td>5</td>\n",
       "      <td>34 ST-PENN STA_R012_N067_00-00-00</td>\n",
       "      <td>95.0</td>\n",
       "      <td>116.0</td>\n",
       "      <td>211.0</td>\n",
       "      <td>4.0</td>\n",
       "      <td>52</td>\n",
       "    </tr>\n",
       "    <tr>\n",
       "      <th>2</th>\n",
       "      <td>50312</td>\n",
       "      <td>34 ST-PENN STA</td>\n",
       "      <td>IND</td>\n",
       "      <td>2018-05-12 16:00:00</td>\n",
       "      <td>18</td>\n",
       "      <td>Saturday</td>\n",
       "      <td>5</td>\n",
       "      <td>34 ST-PENN STA_R012_N067_00-00-00</td>\n",
       "      <td>150.0</td>\n",
       "      <td>150.0</td>\n",
       "      <td>300.0</td>\n",
       "      <td>4.0</td>\n",
       "      <td>75</td>\n",
       "    </tr>\n",
       "    <tr>\n",
       "      <th>3</th>\n",
       "      <td>50313</td>\n",
       "      <td>34 ST-PENN STA</td>\n",
       "      <td>IND</td>\n",
       "      <td>2018-05-12 20:00:00</td>\n",
       "      <td>22</td>\n",
       "      <td>Saturday</td>\n",
       "      <td>5</td>\n",
       "      <td>34 ST-PENN STA_R012_N067_00-00-00</td>\n",
       "      <td>105.0</td>\n",
       "      <td>157.0</td>\n",
       "      <td>262.0</td>\n",
       "      <td>4.0</td>\n",
       "      <td>65</td>\n",
       "    </tr>\n",
       "    <tr>\n",
       "      <th>4</th>\n",
       "      <td>50314</td>\n",
       "      <td>34 ST-PENN STA</td>\n",
       "      <td>IND</td>\n",
       "      <td>2018-05-13 00:00:00</td>\n",
       "      <td>2</td>\n",
       "      <td>Sunday</td>\n",
       "      <td>6</td>\n",
       "      <td>34 ST-PENN STA_R012_N067_00-00-00</td>\n",
       "      <td>41.0</td>\n",
       "      <td>56.0</td>\n",
       "      <td>97.0</td>\n",
       "      <td>4.0</td>\n",
       "      <td>24</td>\n",
       "    </tr>\n",
       "    <tr>\n",
       "      <th>...</th>\n",
       "      <td>...</td>\n",
       "      <td>...</td>\n",
       "      <td>...</td>\n",
       "      <td>...</td>\n",
       "      <td>...</td>\n",
       "      <td>...</td>\n",
       "      <td>...</td>\n",
       "      <td>...</td>\n",
       "      <td>...</td>\n",
       "      <td>...</td>\n",
       "      <td>...</td>\n",
       "      <td>...</td>\n",
       "      <td>...</td>\n",
       "    </tr>\n",
       "    <tr>\n",
       "      <th>14723</th>\n",
       "      <td>722622</td>\n",
       "      <td>34 ST-PENN STA</td>\n",
       "      <td>IRT</td>\n",
       "      <td>2018-06-08 02:00:00</td>\n",
       "      <td>4</td>\n",
       "      <td>Friday</td>\n",
       "      <td>4</td>\n",
       "      <td>34 ST-PENN STA_R293_R142_01-06-01</td>\n",
       "      <td>74.0</td>\n",
       "      <td>43.0</td>\n",
       "      <td>117.0</td>\n",
       "      <td>4.0</td>\n",
       "      <td>29</td>\n",
       "    </tr>\n",
       "    <tr>\n",
       "      <th>14724</th>\n",
       "      <td>722624</td>\n",
       "      <td>34 ST-PENN STA</td>\n",
       "      <td>IRT</td>\n",
       "      <td>2018-06-08 10:00:00</td>\n",
       "      <td>12</td>\n",
       "      <td>Friday</td>\n",
       "      <td>4</td>\n",
       "      <td>34 ST-PENN STA_R293_R142_01-06-01</td>\n",
       "      <td>100.0</td>\n",
       "      <td>498.0</td>\n",
       "      <td>598.0</td>\n",
       "      <td>8.0</td>\n",
       "      <td>74</td>\n",
       "    </tr>\n",
       "    <tr>\n",
       "      <th>14725</th>\n",
       "      <td>722625</td>\n",
       "      <td>34 ST-PENN STA</td>\n",
       "      <td>IRT</td>\n",
       "      <td>2018-06-08 14:00:00</td>\n",
       "      <td>16</td>\n",
       "      <td>Friday</td>\n",
       "      <td>4</td>\n",
       "      <td>34 ST-PENN STA_R293_R142_01-06-01</td>\n",
       "      <td>166.0</td>\n",
       "      <td>283.0</td>\n",
       "      <td>449.0</td>\n",
       "      <td>4.0</td>\n",
       "      <td>112</td>\n",
       "    </tr>\n",
       "    <tr>\n",
       "      <th>14726</th>\n",
       "      <td>722626</td>\n",
       "      <td>34 ST-PENN STA</td>\n",
       "      <td>IRT</td>\n",
       "      <td>2018-06-08 18:00:00</td>\n",
       "      <td>20</td>\n",
       "      <td>Friday</td>\n",
       "      <td>4</td>\n",
       "      <td>34 ST-PENN STA_R293_R142_01-06-01</td>\n",
       "      <td>244.0</td>\n",
       "      <td>416.0</td>\n",
       "      <td>660.0</td>\n",
       "      <td>4.0</td>\n",
       "      <td>165</td>\n",
       "    </tr>\n",
       "    <tr>\n",
       "      <th>14727</th>\n",
       "      <td>722627</td>\n",
       "      <td>34 ST-PENN STA</td>\n",
       "      <td>IRT</td>\n",
       "      <td>2018-06-08 22:00:00</td>\n",
       "      <td>11</td>\n",
       "      <td>Friday</td>\n",
       "      <td>4</td>\n",
       "      <td>34 ST-PENN STA_R293_R142_01-06-01</td>\n",
       "      <td>194.0</td>\n",
       "      <td>191.0</td>\n",
       "      <td>385.0</td>\n",
       "      <td>4.0</td>\n",
       "      <td>96</td>\n",
       "    </tr>\n",
       "  </tbody>\n",
       "</table>\n",
       "<p>14361 rows × 13 columns</p>\n",
       "</div>"
      ],
      "text/plain": [
       "        index         STATION DIVISION            DATETIME  HOUR   WEEKDAY  \\\n",
       "0       50310  34 ST-PENN STA      IND 2018-05-12 08:00:00    10  Saturday   \n",
       "1       50311  34 ST-PENN STA      IND 2018-05-12 12:00:00    14  Saturday   \n",
       "2       50312  34 ST-PENN STA      IND 2018-05-12 16:00:00    18  Saturday   \n",
       "3       50313  34 ST-PENN STA      IND 2018-05-12 20:00:00    22  Saturday   \n",
       "4       50314  34 ST-PENN STA      IND 2018-05-13 00:00:00     2    Sunday   \n",
       "...       ...             ...      ...                 ...   ...       ...   \n",
       "14723  722622  34 ST-PENN STA      IRT 2018-06-08 02:00:00     4    Friday   \n",
       "14724  722624  34 ST-PENN STA      IRT 2018-06-08 10:00:00    12    Friday   \n",
       "14725  722625  34 ST-PENN STA      IRT 2018-06-08 14:00:00    16    Friday   \n",
       "14726  722626  34 ST-PENN STA      IRT 2018-06-08 18:00:00    20    Friday   \n",
       "14727  722627  34 ST-PENN STA      IRT 2018-06-08 22:00:00    11    Friday   \n",
       "\n",
       "       dow                           UNIQUEID  ENTRYDIFF  EXITDIFF  TRAFFIC  \\\n",
       "0        5  34 ST-PENN STA_R012_N067_00-00-00       28.0      43.0     71.0   \n",
       "1        5  34 ST-PENN STA_R012_N067_00-00-00       95.0     116.0    211.0   \n",
       "2        5  34 ST-PENN STA_R012_N067_00-00-00      150.0     150.0    300.0   \n",
       "3        5  34 ST-PENN STA_R012_N067_00-00-00      105.0     157.0    262.0   \n",
       "4        6  34 ST-PENN STA_R012_N067_00-00-00       41.0      56.0     97.0   \n",
       "...    ...                                ...        ...       ...      ...   \n",
       "14723    4  34 ST-PENN STA_R293_R142_01-06-01       74.0      43.0    117.0   \n",
       "14724    4  34 ST-PENN STA_R293_R142_01-06-01      100.0     498.0    598.0   \n",
       "14725    4  34 ST-PENN STA_R293_R142_01-06-01      166.0     283.0    449.0   \n",
       "14726    4  34 ST-PENN STA_R293_R142_01-06-01      244.0     416.0    660.0   \n",
       "14727    4  34 ST-PENN STA_R293_R142_01-06-01      194.0     191.0    385.0   \n",
       "\n",
       "       DURATION  AVG_TRAFFIC  \n",
       "0           4.0           17  \n",
       "1           4.0           52  \n",
       "2           4.0           75  \n",
       "3           4.0           65  \n",
       "4           4.0           24  \n",
       "...         ...          ...  \n",
       "14723       4.0           29  \n",
       "14724       8.0           74  \n",
       "14725       4.0          112  \n",
       "14726       4.0          165  \n",
       "14727       4.0           96  \n",
       "\n",
       "[14361 rows x 13 columns]"
      ]
     },
     "execution_count": 18,
     "metadata": {},
     "output_type": "execute_result"
    }
   ],
   "source": [
    "penn_filter"
   ]
  },
  {
   "cell_type": "code",
   "execution_count": 19,
   "metadata": {
    "scrolled": true
   },
   "outputs": [],
   "source": [
    "# Sum over all turnstiles\n",
    "penn_total = penn_filter.groupby([\"dow\",\"HOUR\"])['AVG_TRAFFIC'].sum().reset_index()\n",
    "# penn_total"
   ]
  },
  {
   "cell_type": "code",
   "execution_count": 20,
   "metadata": {},
   "outputs": [
    {
     "data": {
      "text/plain": [
       "64714.82142857143"
      ]
     },
     "execution_count": 20,
     "metadata": {},
     "output_type": "execute_result"
    }
   ],
   "source": [
    "penn_total.AVG_TRAFFIC.sum()/28 # avg_entries is 35144!"
   ]
  },
  {
   "cell_type": "code",
   "execution_count": 21,
   "metadata": {},
   "outputs": [
    {
     "data": {
      "text/plain": [
       "64714.82142857143"
      ]
     },
     "execution_count": 21,
     "metadata": {},
     "output_type": "execute_result"
    }
   ],
   "source": [
    "# Compare group station and sum\n",
    "penn_total_test = penn_filter.groupby([\"STATION\"])['AVG_TRAFFIC'].sum().reset_index()\n",
    "penn_total_test.AVG_TRAFFIC.sum()/28"
   ]
  },
  {
   "cell_type": "code",
   "execution_count": 22,
   "metadata": {},
   "outputs": [
    {
     "data": {
      "text/html": [
       "<div>\n",
       "<style scoped>\n",
       "    .dataframe tbody tr th:only-of-type {\n",
       "        vertical-align: middle;\n",
       "    }\n",
       "\n",
       "    .dataframe tbody tr th {\n",
       "        vertical-align: top;\n",
       "    }\n",
       "\n",
       "    .dataframe thead th {\n",
       "        text-align: right;\n",
       "    }\n",
       "</style>\n",
       "<table border=\"1\" class=\"dataframe\">\n",
       "  <thead>\n",
       "    <tr style=\"text-align: right;\">\n",
       "      <th></th>\n",
       "      <th>HOUR</th>\n",
       "      <th>AVG_TRAFFIC</th>\n",
       "    </tr>\n",
       "  </thead>\n",
       "  <tbody>\n",
       "    <tr>\n",
       "      <th>0</th>\n",
       "      <td>0</td>\n",
       "      <td>15235</td>\n",
       "    </tr>\n",
       "    <tr>\n",
       "      <th>1</th>\n",
       "      <td>2</td>\n",
       "      <td>18824</td>\n",
       "    </tr>\n",
       "    <tr>\n",
       "      <th>2</th>\n",
       "      <td>3</td>\n",
       "      <td>1100</td>\n",
       "    </tr>\n",
       "    <tr>\n",
       "      <th>3</th>\n",
       "      <td>4</td>\n",
       "      <td>3964</td>\n",
       "    </tr>\n",
       "    <tr>\n",
       "      <th>4</th>\n",
       "      <td>5</td>\n",
       "      <td>80</td>\n",
       "    </tr>\n",
       "    <tr>\n",
       "      <th>5</th>\n",
       "      <td>6</td>\n",
       "      <td>2543</td>\n",
       "    </tr>\n",
       "    <tr>\n",
       "      <th>6</th>\n",
       "      <td>7</td>\n",
       "      <td>382</td>\n",
       "    </tr>\n",
       "    <tr>\n",
       "      <th>7</th>\n",
       "      <td>8</td>\n",
       "      <td>1347</td>\n",
       "    </tr>\n",
       "    <tr>\n",
       "      <th>8</th>\n",
       "      <td>10</td>\n",
       "      <td>27822</td>\n",
       "    </tr>\n",
       "    <tr>\n",
       "      <th>9</th>\n",
       "      <td>11</td>\n",
       "      <td>3002</td>\n",
       "    </tr>\n",
       "    <tr>\n",
       "      <th>10</th>\n",
       "      <td>12</td>\n",
       "      <td>23235</td>\n",
       "    </tr>\n",
       "    <tr>\n",
       "      <th>11</th>\n",
       "      <td>14</td>\n",
       "      <td>45674</td>\n",
       "    </tr>\n",
       "    <tr>\n",
       "      <th>12</th>\n",
       "      <td>15</td>\n",
       "      <td>3045</td>\n",
       "    </tr>\n",
       "    <tr>\n",
       "      <th>13</th>\n",
       "      <td>16</td>\n",
       "      <td>13321</td>\n",
       "    </tr>\n",
       "    <tr>\n",
       "      <th>14</th>\n",
       "      <td>17</td>\n",
       "      <td>4895</td>\n",
       "    </tr>\n",
       "    <tr>\n",
       "      <th>15</th>\n",
       "      <td>18</td>\n",
       "      <td>38401</td>\n",
       "    </tr>\n",
       "    <tr>\n",
       "      <th>16</th>\n",
       "      <td>20</td>\n",
       "      <td>21502</td>\n",
       "    </tr>\n",
       "    <tr>\n",
       "      <th>17</th>\n",
       "      <td>22</td>\n",
       "      <td>59706</td>\n",
       "    </tr>\n",
       "  </tbody>\n",
       "</table>\n",
       "</div>"
      ],
      "text/plain": [
       "    HOUR  AVG_TRAFFIC\n",
       "0      0        15235\n",
       "1      2        18824\n",
       "2      3         1100\n",
       "3      4         3964\n",
       "4      5           80\n",
       "5      6         2543\n",
       "6      7          382\n",
       "7      8         1347\n",
       "8     10        27822\n",
       "9     11         3002\n",
       "10    12        23235\n",
       "11    14        45674\n",
       "12    15         3045\n",
       "13    16        13321\n",
       "14    17         4895\n",
       "15    18        38401\n",
       "16    20        21502\n",
       "17    22        59706"
      ]
     },
     "execution_count": 22,
     "metadata": {},
     "output_type": "execute_result"
    }
   ],
   "source": [
    "# Average over day\n",
    "penn_total_byday = penn_total.groupby(\"HOUR\")['AVG_TRAFFIC'].mean().reset_index()\n",
    "penn_total_byday['AVG_TRAFFIC'] = penn_total_byday['AVG_TRAFFIC'].astype(int)\n",
    "penn_total_byday"
   ]
  },
  {
   "cell_type": "code",
   "execution_count": 23,
   "metadata": {
    "scrolled": true
   },
   "outputs": [
    {
     "name": "stderr",
     "output_type": "stream",
     "text": [
      "<ipython-input-23-ba68365d7de8>:6: UserWarning: FixedFormatter should only be used together with FixedLocator\n",
      "  ax.set_yticklabels(['10k','20k','30k','40k','50k','60k','70k'])\n"
     ]
    },
    {
     "data": {
      "text/plain": [
       "[Text(0, 0.0, '10k'),\n",
       " Text(0, 10000.0, '20k'),\n",
       " Text(0, 20000.0, '30k'),\n",
       " Text(0, 30000.0, '40k'),\n",
       " Text(0, 40000.0, '50k'),\n",
       " Text(0, 50000.0, '60k'),\n",
       " Text(0, 60000.0, '70k'),\n",
       " Text(0, 70000.0, '')]"
      ]
     },
     "execution_count": 23,
     "metadata": {},
     "output_type": "execute_result"
    },
    {
     "data": {
      "image/png": "[encoded data removed]",
      "text/plain": [
       "<Figure size 432x288 with 1 Axes>"
      ]
     },
     "metadata": {
      "needs_background": "light"
     },
     "output_type": "display_data"
    }
   ],
   "source": [
    "# Barplot showing entries of the hour in a day\n",
    "ax = sns.barplot(x='HOUR', y= 'AVG_TRAFFIC', data = penn_total_byday)\n",
    "ax.set_title('34 ST-Penn Station')\n",
    "ax.set_xlabel('Time')\n",
    "ax.set_ylabel('Traffic')\n",
    "ax.set_yticklabels(['10k','20k','30k','40k','50k','60k','70k'])"
   ]
  },
  {
   "cell_type": "code",
   "execution_count": 24,
   "metadata": {},
   "outputs": [
    {
     "data": {
      "text/plain": [
       "Text(0, 0.5, 'Traffic')"
      ]
     },
     "execution_count": 24,
     "metadata": {},
     "output_type": "execute_result"
    },
    {
     "data": {
      "image/png": "[encoded data removed]",
      "text/plain": [
       "<Figure size 432x288 with 1 Axes>"
      ]
     },
     "metadata": {
      "needs_background": "light"
     },
     "output_type": "display_data"
    }
   ],
   "source": [
    "# Same data shown in lineplot (can overlap with data from other stations)\n",
    "ax = sns.lineplot(x='HOUR', y= 'AVG_TRAFFIC', data = penn_total_byday, label='34 ST-Penn Station')\n",
    "ax.legend()\n",
    "ax.set_xlabel('Time')\n",
    "ax.set_ylabel('Traffic')"
   ]
  },
  {
   "cell_type": "code",
   "execution_count": null,
   "metadata": {},
   "outputs": [],
   "source": []
  },
  {
   "cell_type": "code",
   "execution_count": 25,
   "metadata": {},
   "outputs": [
    {
     "data": {
      "text/html": [
       "<div>\n",
       "<style scoped>\n",
       "    .dataframe tbody tr th:only-of-type {\n",
       "        vertical-align: middle;\n",
       "    }\n",
       "\n",
       "    .dataframe tbody tr th {\n",
       "        vertical-align: top;\n",
       "    }\n",
       "\n",
       "    .dataframe thead th {\n",
       "        text-align: right;\n",
       "    }\n",
       "</style>\n",
       "<table border=\"1\" class=\"dataframe\">\n",
       "  <thead>\n",
       "    <tr style=\"text-align: right;\">\n",
       "      <th></th>\n",
       "      <th>dow</th>\n",
       "      <th>AVG_TRAFFIC</th>\n",
       "    </tr>\n",
       "  </thead>\n",
       "  <tbody>\n",
       "    <tr>\n",
       "      <th>0</th>\n",
       "      <td>0</td>\n",
       "      <td>260867</td>\n",
       "    </tr>\n",
       "    <tr>\n",
       "      <th>1</th>\n",
       "      <td>1</td>\n",
       "      <td>315699</td>\n",
       "    </tr>\n",
       "    <tr>\n",
       "      <th>2</th>\n",
       "      <td>2</td>\n",
       "      <td>322622</td>\n",
       "    </tr>\n",
       "    <tr>\n",
       "      <th>3</th>\n",
       "      <td>3</td>\n",
       "      <td>328071</td>\n",
       "    </tr>\n",
       "    <tr>\n",
       "      <th>4</th>\n",
       "      <td>4</td>\n",
       "      <td>311001</td>\n",
       "    </tr>\n",
       "    <tr>\n",
       "      <th>5</th>\n",
       "      <td>5</td>\n",
       "      <td>132181</td>\n",
       "    </tr>\n",
       "    <tr>\n",
       "      <th>6</th>\n",
       "      <td>6</td>\n",
       "      <td>141574</td>\n",
       "    </tr>\n",
       "  </tbody>\n",
       "</table>\n",
       "</div>"
      ],
      "text/plain": [
       "   dow  AVG_TRAFFIC\n",
       "0    0       260867\n",
       "1    1       315699\n",
       "2    2       322622\n",
       "3    3       328071\n",
       "4    4       311001\n",
       "5    5       132181\n",
       "6    6       141574"
      ]
     },
     "execution_count": 25,
     "metadata": {},
     "output_type": "execute_result"
    }
   ],
   "source": [
    "# Day of week daily entries\n",
    "# Sum over all turnstiles\n",
    "# penn_total = penn_filter2.groupby([\"day_of_week\",\"median_hour\"])['avg_entries'].sum().reset_index()\n",
    "\n",
    "# Sum over hours for one day\n",
    "penn_total_byweek = penn_total.groupby(\"dow\")['AVG_TRAFFIC'].sum().reset_index()\n",
    "penn_total_byweek['AVG_TRAFFIC'] = penn_total_byweek['AVG_TRAFFIC'].astype(int)\n",
    "penn_total_byweek"
   ]
  },
  {
   "cell_type": "code",
   "execution_count": 26,
   "metadata": {
    "scrolled": false
   },
   "outputs": [
    {
     "data": {
      "text/plain": [
       "[Text(0, 0, 'Mon'),\n",
       " Text(1, 0, 'Tue'),\n",
       " Text(2, 0, 'Wed'),\n",
       " Text(3, 0, 'Thu'),\n",
       " Text(4, 0, 'Fri'),\n",
       " Text(5, 0, 'Sat'),\n",
       " Text(6, 0, 'Sun')]"
      ]
     },
     "execution_count": 26,
     "metadata": {},
     "output_type": "execute_result"
    },
    {
     "data": {
      "image/png": "[encoded data removed]",
      "text/plain": [
       "<Figure size 432x288 with 1 Axes>"
      ]
     },
     "metadata": {
      "needs_background": "light"
     },
     "output_type": "display_data"
    }
   ],
   "source": [
    "# Barplot showing entries of the hour in a day\n",
    "ax = sns.barplot(x='dow', y= 'AVG_TRAFFIC', data = penn_total_byweek)\n",
    "ax.set_title('34 ST-Penn Station')\n",
    "ax.set_xlabel('Day of week')\n",
    "ax.set_ylabel('Traffic')\n",
    "ax.set_xticklabels(['Mon','Tue','Wed','Thu','Fri','Sat','Sun'])\n",
    "# ax.set_yticklabels(['50k','100k','150k','200k','250k','300k'])"
   ]
  },
  {
   "cell_type": "code",
   "execution_count": 27,
   "metadata": {},
   "outputs": [
    {
     "data": {
      "image/png": "[encoded data removed]",
      "text/plain": [
       "<Figure size 432x288 with 1 Axes>"
      ]
     },
     "metadata": {
      "needs_background": "light"
     },
     "output_type": "display_data"
    }
   ],
   "source": [
    "fig, ax = plt.subplots()\n",
    "ax = sns.barplot(x='dow', y= 'AVG_TRAFFIC', data = penn_total_byweek)\n",
    "ax.set_title('34 ST-Penn Station',fontsize=15)\n",
    "ax.set_xlabel('Day of week',fontsize=15)\n",
    "ax.set_ylabel('Traffic',fontsize=15)\n",
    "ax.set_xticklabels(['Mon','Tue','Wed','Thu','Fri','Sat','Sun'],fontsize=14)\n",
    "\n",
    "ax.set_yticks([5e4,10e4,15e4,20e4,25e4,30e4])\n",
    "ax.set_yticklabels(['50k','100k','150k','200k','250k','300k'],fontsize=12)\n",
    "fig.savefig('Traffic_dayofweek.pdf', bbox_inches='tight')"
   ]
  },
  {
   "cell_type": "code",
   "execution_count": 28,
   "metadata": {},
   "outputs": [],
   "source": [
    "# Check the daily entries\n",
    "\n",
    "##  COMMENT THIS OUT  -AB\n",
    "#penn_total_byday.avg_entries.mean(),penn_total_byday.avg_entries.mean()*24"
   ]
  },
  {
   "cell_type": "code",
   "execution_count": 29,
   "metadata": {},
   "outputs": [
    {
     "data": {
      "text/plain": [
       "(15782.111111111111, 378770.6666666667)"
      ]
     },
     "execution_count": 29,
     "metadata": {},
     "output_type": "execute_result"
    }
   ],
   "source": [
    "penn_total_byday.AVG_TRAFFIC.mean(),penn_total_byday.AVG_TRAFFIC.mean()*24"
   ]
  },
  {
   "cell_type": "code",
   "execution_count": null,
   "metadata": {},
   "outputs": [],
   "source": []
  },
  {
   "cell_type": "code",
   "execution_count": 30,
   "metadata": {},
   "outputs": [],
   "source": [
    "# weekday/weekend\n",
    "penn_weekday = penn_filter[penn_filter['dow'] < 5]\n",
    "penn_weekend = penn_filter[penn_filter['dow'] >= 5]"
   ]
  },
  {
   "cell_type": "code",
   "execution_count": 31,
   "metadata": {
    "scrolled": true
   },
   "outputs": [
    {
     "data": {
      "text/html": [
       "<div>\n",
       "<style scoped>\n",
       "    .dataframe tbody tr th:only-of-type {\n",
       "        vertical-align: middle;\n",
       "    }\n",
       "\n",
       "    .dataframe tbody tr th {\n",
       "        vertical-align: top;\n",
       "    }\n",
       "\n",
       "    .dataframe thead th {\n",
       "        text-align: right;\n",
       "    }\n",
       "</style>\n",
       "<table border=\"1\" class=\"dataframe\">\n",
       "  <thead>\n",
       "    <tr style=\"text-align: right;\">\n",
       "      <th></th>\n",
       "      <th>index</th>\n",
       "      <th>STATION</th>\n",
       "      <th>DIVISION</th>\n",
       "      <th>DATETIME</th>\n",
       "      <th>HOUR</th>\n",
       "      <th>WEEKDAY</th>\n",
       "      <th>dow</th>\n",
       "      <th>UNIQUEID</th>\n",
       "      <th>ENTRYDIFF</th>\n",
       "      <th>EXITDIFF</th>\n",
       "      <th>TRAFFIC</th>\n",
       "      <th>DURATION</th>\n",
       "      <th>AVG_TRAFFIC</th>\n",
       "    </tr>\n",
       "  </thead>\n",
       "  <tbody>\n",
       "    <tr>\n",
       "      <th>0</th>\n",
       "      <td>50310</td>\n",
       "      <td>34 ST-PENN STA</td>\n",
       "      <td>IND</td>\n",
       "      <td>2018-05-12 08:00:00</td>\n",
       "      <td>10</td>\n",
       "      <td>Saturday</td>\n",
       "      <td>5</td>\n",
       "      <td>34 ST-PENN STA_R012_N067_00-00-00</td>\n",
       "      <td>28.0</td>\n",
       "      <td>43.0</td>\n",
       "      <td>71.0</td>\n",
       "      <td>4.0</td>\n",
       "      <td>17</td>\n",
       "    </tr>\n",
       "    <tr>\n",
       "      <th>1</th>\n",
       "      <td>50311</td>\n",
       "      <td>34 ST-PENN STA</td>\n",
       "      <td>IND</td>\n",
       "      <td>2018-05-12 12:00:00</td>\n",
       "      <td>14</td>\n",
       "      <td>Saturday</td>\n",
       "      <td>5</td>\n",
       "      <td>34 ST-PENN STA_R012_N067_00-00-00</td>\n",
       "      <td>95.0</td>\n",
       "      <td>116.0</td>\n",
       "      <td>211.0</td>\n",
       "      <td>4.0</td>\n",
       "      <td>52</td>\n",
       "    </tr>\n",
       "    <tr>\n",
       "      <th>2</th>\n",
       "      <td>50312</td>\n",
       "      <td>34 ST-PENN STA</td>\n",
       "      <td>IND</td>\n",
       "      <td>2018-05-12 16:00:00</td>\n",
       "      <td>18</td>\n",
       "      <td>Saturday</td>\n",
       "      <td>5</td>\n",
       "      <td>34 ST-PENN STA_R012_N067_00-00-00</td>\n",
       "      <td>150.0</td>\n",
       "      <td>150.0</td>\n",
       "      <td>300.0</td>\n",
       "      <td>4.0</td>\n",
       "      <td>75</td>\n",
       "    </tr>\n",
       "    <tr>\n",
       "      <th>3</th>\n",
       "      <td>50313</td>\n",
       "      <td>34 ST-PENN STA</td>\n",
       "      <td>IND</td>\n",
       "      <td>2018-05-12 20:00:00</td>\n",
       "      <td>22</td>\n",
       "      <td>Saturday</td>\n",
       "      <td>5</td>\n",
       "      <td>34 ST-PENN STA_R012_N067_00-00-00</td>\n",
       "      <td>105.0</td>\n",
       "      <td>157.0</td>\n",
       "      <td>262.0</td>\n",
       "      <td>4.0</td>\n",
       "      <td>65</td>\n",
       "    </tr>\n",
       "    <tr>\n",
       "      <th>4</th>\n",
       "      <td>50314</td>\n",
       "      <td>34 ST-PENN STA</td>\n",
       "      <td>IND</td>\n",
       "      <td>2018-05-13 00:00:00</td>\n",
       "      <td>2</td>\n",
       "      <td>Sunday</td>\n",
       "      <td>6</td>\n",
       "      <td>34 ST-PENN STA_R012_N067_00-00-00</td>\n",
       "      <td>41.0</td>\n",
       "      <td>56.0</td>\n",
       "      <td>97.0</td>\n",
       "      <td>4.0</td>\n",
       "      <td>24</td>\n",
       "    </tr>\n",
       "    <tr>\n",
       "      <th>...</th>\n",
       "      <td>...</td>\n",
       "      <td>...</td>\n",
       "      <td>...</td>\n",
       "      <td>...</td>\n",
       "      <td>...</td>\n",
       "      <td>...</td>\n",
       "      <td>...</td>\n",
       "      <td>...</td>\n",
       "      <td>...</td>\n",
       "      <td>...</td>\n",
       "      <td>...</td>\n",
       "      <td>...</td>\n",
       "      <td>...</td>\n",
       "    </tr>\n",
       "    <tr>\n",
       "      <th>14694</th>\n",
       "      <td>722593</td>\n",
       "      <td>34 ST-PENN STA</td>\n",
       "      <td>IRT</td>\n",
       "      <td>2018-06-03 06:00:00</td>\n",
       "      <td>8</td>\n",
       "      <td>Sunday</td>\n",
       "      <td>6</td>\n",
       "      <td>34 ST-PENN STA_R293_R142_01-06-01</td>\n",
       "      <td>9.0</td>\n",
       "      <td>7.0</td>\n",
       "      <td>16.0</td>\n",
       "      <td>4.0</td>\n",
       "      <td>4</td>\n",
       "    </tr>\n",
       "    <tr>\n",
       "      <th>14695</th>\n",
       "      <td>722594</td>\n",
       "      <td>34 ST-PENN STA</td>\n",
       "      <td>IRT</td>\n",
       "      <td>2018-06-03 10:00:00</td>\n",
       "      <td>12</td>\n",
       "      <td>Sunday</td>\n",
       "      <td>6</td>\n",
       "      <td>34 ST-PENN STA_R293_R142_01-06-01</td>\n",
       "      <td>46.0</td>\n",
       "      <td>67.0</td>\n",
       "      <td>113.0</td>\n",
       "      <td>4.0</td>\n",
       "      <td>28</td>\n",
       "    </tr>\n",
       "    <tr>\n",
       "      <th>14696</th>\n",
       "      <td>722595</td>\n",
       "      <td>34 ST-PENN STA</td>\n",
       "      <td>IRT</td>\n",
       "      <td>2018-06-03 14:00:00</td>\n",
       "      <td>16</td>\n",
       "      <td>Sunday</td>\n",
       "      <td>6</td>\n",
       "      <td>34 ST-PENN STA_R293_R142_01-06-01</td>\n",
       "      <td>120.0</td>\n",
       "      <td>173.0</td>\n",
       "      <td>293.0</td>\n",
       "      <td>4.0</td>\n",
       "      <td>73</td>\n",
       "    </tr>\n",
       "    <tr>\n",
       "      <th>14697</th>\n",
       "      <td>722596</td>\n",
       "      <td>34 ST-PENN STA</td>\n",
       "      <td>IRT</td>\n",
       "      <td>2018-06-03 18:00:00</td>\n",
       "      <td>20</td>\n",
       "      <td>Sunday</td>\n",
       "      <td>6</td>\n",
       "      <td>34 ST-PENN STA_R293_R142_01-06-01</td>\n",
       "      <td>115.0</td>\n",
       "      <td>271.0</td>\n",
       "      <td>386.0</td>\n",
       "      <td>4.0</td>\n",
       "      <td>96</td>\n",
       "    </tr>\n",
       "    <tr>\n",
       "      <th>14698</th>\n",
       "      <td>722597</td>\n",
       "      <td>34 ST-PENN STA</td>\n",
       "      <td>IRT</td>\n",
       "      <td>2018-06-03 22:00:00</td>\n",
       "      <td>0</td>\n",
       "      <td>Sunday</td>\n",
       "      <td>6</td>\n",
       "      <td>34 ST-PENN STA_R293_R142_01-06-01</td>\n",
       "      <td>102.0</td>\n",
       "      <td>124.0</td>\n",
       "      <td>226.0</td>\n",
       "      <td>4.0</td>\n",
       "      <td>56</td>\n",
       "    </tr>\n",
       "  </tbody>\n",
       "</table>\n",
       "<p>3539 rows × 13 columns</p>\n",
       "</div>"
      ],
      "text/plain": [
       "        index         STATION DIVISION            DATETIME  HOUR   WEEKDAY  \\\n",
       "0       50310  34 ST-PENN STA      IND 2018-05-12 08:00:00    10  Saturday   \n",
       "1       50311  34 ST-PENN STA      IND 2018-05-12 12:00:00    14  Saturday   \n",
       "2       50312  34 ST-PENN STA      IND 2018-05-12 16:00:00    18  Saturday   \n",
       "3       50313  34 ST-PENN STA      IND 2018-05-12 20:00:00    22  Saturday   \n",
       "4       50314  34 ST-PENN STA      IND 2018-05-13 00:00:00     2    Sunday   \n",
       "...       ...             ...      ...                 ...   ...       ...   \n",
       "14694  722593  34 ST-PENN STA      IRT 2018-06-03 06:00:00     8    Sunday   \n",
       "14695  722594  34 ST-PENN STA      IRT 2018-06-03 10:00:00    12    Sunday   \n",
       "14696  722595  34 ST-PENN STA      IRT 2018-06-03 14:00:00    16    Sunday   \n",
       "14697  722596  34 ST-PENN STA      IRT 2018-06-03 18:00:00    20    Sunday   \n",
       "14698  722597  34 ST-PENN STA      IRT 2018-06-03 22:00:00     0    Sunday   \n",
       "\n",
       "       dow                           UNIQUEID  ENTRYDIFF  EXITDIFF  TRAFFIC  \\\n",
       "0        5  34 ST-PENN STA_R012_N067_00-00-00       28.0      43.0     71.0   \n",
       "1        5  34 ST-PENN STA_R012_N067_00-00-00       95.0     116.0    211.0   \n",
       "2        5  34 ST-PENN STA_R012_N067_00-00-00      150.0     150.0    300.0   \n",
       "3        5  34 ST-PENN STA_R012_N067_00-00-00      105.0     157.0    262.0   \n",
       "4        6  34 ST-PENN STA_R012_N067_00-00-00       41.0      56.0     97.0   \n",
       "...    ...                                ...        ...       ...      ...   \n",
       "14694    6  34 ST-PENN STA_R293_R142_01-06-01        9.0       7.0     16.0   \n",
       "14695    6  34 ST-PENN STA_R293_R142_01-06-01       46.0      67.0    113.0   \n",
       "14696    6  34 ST-PENN STA_R293_R142_01-06-01      120.0     173.0    293.0   \n",
       "14697    6  34 ST-PENN STA_R293_R142_01-06-01      115.0     271.0    386.0   \n",
       "14698    6  34 ST-PENN STA_R293_R142_01-06-01      102.0     124.0    226.0   \n",
       "\n",
       "       DURATION  AVG_TRAFFIC  \n",
       "0           4.0           17  \n",
       "1           4.0           52  \n",
       "2           4.0           75  \n",
       "3           4.0           65  \n",
       "4           4.0           24  \n",
       "...         ...          ...  \n",
       "14694       4.0            4  \n",
       "14695       4.0           28  \n",
       "14696       4.0           73  \n",
       "14697       4.0           96  \n",
       "14698       4.0           56  \n",
       "\n",
       "[3539 rows x 13 columns]"
      ]
     },
     "execution_count": 31,
     "metadata": {},
     "output_type": "execute_result"
    }
   ],
   "source": [
    "penn_weekend"
   ]
  },
  {
   "cell_type": "code",
   "execution_count": 32,
   "metadata": {},
   "outputs": [],
   "source": [
    "#### COMMENT THIS OUT -AB\n",
    "\n",
    "#penn_weekday_total['AVG_TRAFFIC'].nsmallest(5)"
   ]
  },
  {
   "cell_type": "code",
   "execution_count": 33,
   "metadata": {},
   "outputs": [
    {
     "data": {
      "text/html": [
       "<div>\n",
       "<style scoped>\n",
       "    .dataframe tbody tr th:only-of-type {\n",
       "        vertical-align: middle;\n",
       "    }\n",
       "\n",
       "    .dataframe tbody tr th {\n",
       "        vertical-align: top;\n",
       "    }\n",
       "\n",
       "    .dataframe thead th {\n",
       "        text-align: right;\n",
       "    }\n",
       "</style>\n",
       "<table border=\"1\" class=\"dataframe\">\n",
       "  <thead>\n",
       "    <tr style=\"text-align: right;\">\n",
       "      <th></th>\n",
       "      <th>HOUR</th>\n",
       "      <th>AVG_TRAFFIC</th>\n",
       "    </tr>\n",
       "  </thead>\n",
       "  <tbody>\n",
       "    <tr>\n",
       "      <th>0</th>\n",
       "      <td>0</td>\n",
       "      <td>18276.50</td>\n",
       "    </tr>\n",
       "    <tr>\n",
       "      <th>1</th>\n",
       "      <td>2</td>\n",
       "      <td>18938.80</td>\n",
       "    </tr>\n",
       "    <tr>\n",
       "      <th>2</th>\n",
       "      <td>3</td>\n",
       "      <td>1100.00</td>\n",
       "    </tr>\n",
       "    <tr>\n",
       "      <th>3</th>\n",
       "      <td>4</td>\n",
       "      <td>3813.00</td>\n",
       "    </tr>\n",
       "    <tr>\n",
       "      <th>4</th>\n",
       "      <td>5</td>\n",
       "      <td>80.00</td>\n",
       "    </tr>\n",
       "    <tr>\n",
       "      <th>5</th>\n",
       "      <td>6</td>\n",
       "      <td>2294.40</td>\n",
       "    </tr>\n",
       "    <tr>\n",
       "      <th>6</th>\n",
       "      <td>7</td>\n",
       "      <td>382.00</td>\n",
       "    </tr>\n",
       "    <tr>\n",
       "      <th>7</th>\n",
       "      <td>8</td>\n",
       "      <td>1480.00</td>\n",
       "    </tr>\n",
       "    <tr>\n",
       "      <th>8</th>\n",
       "      <td>10</td>\n",
       "      <td>36911.00</td>\n",
       "    </tr>\n",
       "    <tr>\n",
       "      <th>9</th>\n",
       "      <td>11</td>\n",
       "      <td>3002.00</td>\n",
       "    </tr>\n",
       "    <tr>\n",
       "      <th>10</th>\n",
       "      <td>12</td>\n",
       "      <td>30485.00</td>\n",
       "    </tr>\n",
       "    <tr>\n",
       "      <th>11</th>\n",
       "      <td>14</td>\n",
       "      <td>56222.60</td>\n",
       "    </tr>\n",
       "    <tr>\n",
       "      <th>12</th>\n",
       "      <td>15</td>\n",
       "      <td>3045.00</td>\n",
       "    </tr>\n",
       "    <tr>\n",
       "      <th>13</th>\n",
       "      <td>16</td>\n",
       "      <td>14138.80</td>\n",
       "    </tr>\n",
       "    <tr>\n",
       "      <th>14</th>\n",
       "      <td>17</td>\n",
       "      <td>4895.00</td>\n",
       "    </tr>\n",
       "    <tr>\n",
       "      <th>15</th>\n",
       "      <td>18</td>\n",
       "      <td>41616.00</td>\n",
       "    </tr>\n",
       "    <tr>\n",
       "      <th>16</th>\n",
       "      <td>20</td>\n",
       "      <td>25313.80</td>\n",
       "    </tr>\n",
       "    <tr>\n",
       "      <th>17</th>\n",
       "      <td>22</td>\n",
       "      <td>74125.75</td>\n",
       "    </tr>\n",
       "  </tbody>\n",
       "</table>\n",
       "</div>"
      ],
      "text/plain": [
       "    HOUR  AVG_TRAFFIC\n",
       "0      0     18276.50\n",
       "1      2     18938.80\n",
       "2      3      1100.00\n",
       "3      4      3813.00\n",
       "4      5        80.00\n",
       "5      6      2294.40\n",
       "6      7       382.00\n",
       "7      8      1480.00\n",
       "8     10     36911.00\n",
       "9     11      3002.00\n",
       "10    12     30485.00\n",
       "11    14     56222.60\n",
       "12    15      3045.00\n",
       "13    16     14138.80\n",
       "14    17      4895.00\n",
       "15    18     41616.00\n",
       "16    20     25313.80\n",
       "17    22     74125.75"
      ]
     },
     "execution_count": 33,
     "metadata": {},
     "output_type": "execute_result"
    }
   ],
   "source": [
    "# Weekday data\n",
    "# Sum over all turnstiles\n",
    "penn_weekday_total = penn_weekday.groupby([\"dow\",\"HOUR\"])['AVG_TRAFFIC'].sum().reset_index()\n",
    "# Average over day\n",
    "penn_weekday_total_byday = penn_weekday_total.groupby(\"HOUR\")['AVG_TRAFFIC'].mean().reset_index()\n",
    "penn_weekday_total_byday"
   ]
  },
  {
   "cell_type": "code",
   "execution_count": null,
   "metadata": {},
   "outputs": [],
   "source": []
  },
  {
   "cell_type": "code",
   "execution_count": 34,
   "metadata": {},
   "outputs": [
    {
     "data": {
      "text/plain": [
       "Text(0, 0.5, 'Traffic')"
      ]
     },
     "execution_count": 34,
     "metadata": {},
     "output_type": "execute_result"
    },
    {
     "data": {
      "image/png": "[encoded data removed]",
      "text/plain": [
       "<Figure size 432x288 with 1 Axes>"
      ]
     },
     "metadata": {
      "needs_background": "light"
     },
     "output_type": "display_data"
    }
   ],
   "source": [
    "# Barplot showing entries of the hour in a day\n",
    "ax = sns.barplot(x='HOUR', y= 'AVG_TRAFFIC', data = penn_weekday_total_byday)\n",
    "ax.set_title('34ST-Penn Station (weekday)')\n",
    "ax.set_xlabel('Time')\n",
    "ax.set_ylabel('Traffic')"
   ]
  },
  {
   "cell_type": "code",
   "execution_count": 35,
   "metadata": {},
   "outputs": [
    {
     "data": {
      "text/html": [
       "<div>\n",
       "<style scoped>\n",
       "    .dataframe tbody tr th:only-of-type {\n",
       "        vertical-align: middle;\n",
       "    }\n",
       "\n",
       "    .dataframe tbody tr th {\n",
       "        vertical-align: top;\n",
       "    }\n",
       "\n",
       "    .dataframe thead th {\n",
       "        text-align: right;\n",
       "    }\n",
       "</style>\n",
       "<table border=\"1\" class=\"dataframe\">\n",
       "  <thead>\n",
       "    <tr style=\"text-align: right;\">\n",
       "      <th></th>\n",
       "      <th>HOUR</th>\n",
       "      <th>AVG_TRAFFIC</th>\n",
       "    </tr>\n",
       "  </thead>\n",
       "  <tbody>\n",
       "    <tr>\n",
       "      <th>0</th>\n",
       "      <td>0</td>\n",
       "      <td>9153.0</td>\n",
       "    </tr>\n",
       "    <tr>\n",
       "      <th>1</th>\n",
       "      <td>2</td>\n",
       "      <td>18254.0</td>\n",
       "    </tr>\n",
       "    <tr>\n",
       "      <th>2</th>\n",
       "      <td>4</td>\n",
       "      <td>4724.0</td>\n",
       "    </tr>\n",
       "    <tr>\n",
       "      <th>3</th>\n",
       "      <td>6</td>\n",
       "      <td>3789.0</td>\n",
       "    </tr>\n",
       "    <tr>\n",
       "      <th>4</th>\n",
       "      <td>8</td>\n",
       "      <td>687.0</td>\n",
       "    </tr>\n",
       "    <tr>\n",
       "      <th>5</th>\n",
       "      <td>10</td>\n",
       "      <td>5101.5</td>\n",
       "    </tr>\n",
       "    <tr>\n",
       "      <th>6</th>\n",
       "      <td>12</td>\n",
       "      <td>5111.0</td>\n",
       "    </tr>\n",
       "    <tr>\n",
       "      <th>7</th>\n",
       "      <td>14</td>\n",
       "      <td>19303.0</td>\n",
       "    </tr>\n",
       "    <tr>\n",
       "      <th>8</th>\n",
       "      <td>16</td>\n",
       "      <td>11276.5</td>\n",
       "    </tr>\n",
       "    <tr>\n",
       "      <th>9</th>\n",
       "      <td>18</td>\n",
       "      <td>30364.0</td>\n",
       "    </tr>\n",
       "    <tr>\n",
       "      <th>10</th>\n",
       "      <td>20</td>\n",
       "      <td>11975.0</td>\n",
       "    </tr>\n",
       "    <tr>\n",
       "      <th>11</th>\n",
       "      <td>22</td>\n",
       "      <td>30866.5</td>\n",
       "    </tr>\n",
       "  </tbody>\n",
       "</table>\n",
       "</div>"
      ],
      "text/plain": [
       "    HOUR  AVG_TRAFFIC\n",
       "0      0       9153.0\n",
       "1      2      18254.0\n",
       "2      4       4724.0\n",
       "3      6       3789.0\n",
       "4      8        687.0\n",
       "5     10       5101.5\n",
       "6     12       5111.0\n",
       "7     14      19303.0\n",
       "8     16      11276.5\n",
       "9     18      30364.0\n",
       "10    20      11975.0\n",
       "11    22      30866.5"
      ]
     },
     "execution_count": 35,
     "metadata": {},
     "output_type": "execute_result"
    }
   ],
   "source": [
    "# Weekend data\n",
    "# Sum over all turnstiles\n",
    "penn_weekend_total = penn_weekend.groupby([\"dow\",\"HOUR\"])['AVG_TRAFFIC'].sum().reset_index()\n",
    "# Average over day\n",
    "penn_weekend_total_byday = penn_weekend_total.groupby(\"HOUR\")['AVG_TRAFFIC'].mean().reset_index()\n",
    "penn_weekend_total_byday"
   ]
  },
  {
   "cell_type": "code",
   "execution_count": null,
   "metadata": {},
   "outputs": [],
   "source": []
  },
  {
   "cell_type": "code",
   "execution_count": 36,
   "metadata": {},
   "outputs": [
    {
     "data": {
      "text/plain": [
       "<AxesSubplot:xlabel='HOUR', ylabel='AVG_TRAFFIC'>"
      ]
     },
     "execution_count": 36,
     "metadata": {},
     "output_type": "execute_result"
    },
    {
     "data": {
      "image/png": "[encoded data removed]",
      "text/plain": [
       "<Figure size 432x288 with 1 Axes>"
      ]
     },
     "metadata": {
      "needs_background": "light"
     },
     "output_type": "display_data"
    }
   ],
   "source": [
    "# Try distplot\n",
    "sns.scatterplot(x='HOUR', y= 'AVG_TRAFFIC', data = penn_weekday_total_byday)\n",
    "sns.lineplot(x='HOUR', y= 'AVG_TRAFFIC', data = penn_weekday_total_byday)"
   ]
  },
  {
   "cell_type": "code",
   "execution_count": 37,
   "metadata": {},
   "outputs": [
    {
     "data": {
      "text/plain": [
       "Text(0, 0.5, 'Traffic')"
      ]
     },
     "execution_count": 37,
     "metadata": {},
     "output_type": "execute_result"
    },
    {
     "data": {
      "image/png": "[encoded data removed]",
      "text/plain": [
       "<Figure size 432x288 with 1 Axes>"
      ]
     },
     "metadata": {
      "needs_background": "light"
     },
     "output_type": "display_data"
    }
   ],
   "source": [
    "# Barplot showing entries of the hour in a day\n",
    "ax = sns.barplot(x='HOUR', y= 'AVG_TRAFFIC', data = penn_weekend_total_byday)\n",
    "ax.set_title('34 ST-Penn station (weekend)')\n",
    "ax.set_xlabel('Time')\n",
    "ax.set_ylabel('Traffic')"
   ]
  },
  {
   "cell_type": "code",
   "execution_count": null,
   "metadata": {},
   "outputs": [],
   "source": []
  },
  {
   "cell_type": "code",
   "execution_count": 38,
   "metadata": {},
   "outputs": [
    {
     "data": {
      "image/png": "[encoded data removed]",
      "text/plain": [
       "<Figure size 432x288 with 1 Axes>"
      ]
     },
     "metadata": {
      "needs_background": "light"
     },
     "output_type": "display_data"
    }
   ],
   "source": [
    "# Plot together for comparison\n",
    "ax = sns.lineplot(x='HOUR', y= 'AVG_TRAFFIC', data = penn_weekday_total_byday, label='weekday')\n",
    "ax = sns.lineplot(x='HOUR', y= 'AVG_TRAFFIC', data = penn_weekend_total_byday, label='weekend')\n",
    "ax.set_title('34 ST-Penn station (weekend)')\n",
    "\n",
    "ax.set_xticks([0,2,4,6,8,10,12,14,16,18,20,22])\n",
    "ax.set_xlabel('Hour')\n",
    "ax.set_ylabel('Total Traffic')\n",
    "fig.savefig('Traffic_time_Penn.svg', bbox_inches='tight')"
   ]
  },
  {
   "cell_type": "code",
   "execution_count": 39,
   "metadata": {},
   "outputs": [
    {
     "data": {
      "image/png": "[encoded data removed]",
      "text/plain": [
       "<Figure size 432x288 with 1 Axes>"
      ]
     },
     "metadata": {
      "needs_background": "light"
     },
     "output_type": "display_data"
    }
   ],
   "source": [
    "fig, ax = plt.subplots()\n",
    "\n",
    "## ADJUST HERE -AB\n",
    "#temp1[\"AVG_TRAFFIC\"].plot.area(label='weekday',alpha=0.5)\n",
    "#temp2[\"AVG_TRAFFIC\"].plot.area(label='weekday',alpha=0.5)\n",
    "#New lines:\n",
    "penn_weekday_total_byday[\"AVG_TRAFFIC\"].plot.area(label='weekday',alpha=0.5)\n",
    "penn_weekend_total_byday[\"AVG_TRAFFIC\"].plot.area(label='weekend',alpha=0.5)\n",
    "\n",
    "plt.xlabel('Time', fontsize=15)\n",
    "plt.ylabel('Traffic', fontsize=15)\n",
    "plt.title('34 ST-Penn Station',fontsize=17)\n",
    "plt.legend(fontsize=15)\n",
    "plt.xticks(fontsize=15)\n",
    "plt.yticks(fontsize=12)\n",
    "plt.xlim([0,22])\n",
    "ax.set_xticks([0,2,4,6,8,10,12,14,16,18,20,22])\n",
    "ax.set_yticks([1e4,2e4,3e4,4e4,5e4,6e4,7e4])\n",
    "\n",
    "#changed to .svg -AB\n",
    "fig.savefig('Traffic_time.svg', bbox_inches='tight')"
   ]
  },
  {
   "cell_type": "code",
   "execution_count": null,
   "metadata": {},
   "outputs": [],
   "source": []
  },
  {
   "cell_type": "code",
   "execution_count": null,
   "metadata": {},
   "outputs": [],
   "source": []
  },
  {
   "cell_type": "code",
   "execution_count": null,
   "metadata": {},
   "outputs": [],
   "source": []
  },
  {
   "cell_type": "code",
   "execution_count": null,
   "metadata": {},
   "outputs": [],
   "source": []
  }
 ],
 "metadata": {
  "kernelspec": {
   "display_name": "Python 3",
   "language": "python",
   "name": "python3"
  },
  "language_info": {
   "codemirror_mode": {
    "name": "ipython",
    "version": 3
   },
   "file_extension": ".py",
   "mimetype": "text/x-python",
   "name": "python",
   "nbconvert_exporter": "python",
   "pygments_lexer": "ipython3",
   "version": "3.8.5"
  }
 },
 "nbformat": 4,
 "nbformat_minor": 4
}
